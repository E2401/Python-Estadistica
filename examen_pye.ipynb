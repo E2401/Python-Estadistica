{
  "cells": [
    {
      "cell_type": "markdown",
      "metadata": {},
      "source": [
        "Por:\n",
        "Edgardo Nieto\n",
        "Santiago Rey\n",
        "Emilio Salinas\n",
        "Adrien Valenzuela"
      ]
    },
    {
      "cell_type": "markdown",
      "metadata": {},
      "source": [
        "Leer datos"
      ]
    },
    {
      "cell_type": "code",
      "execution_count": 81,
      "metadata": {
        "id": "BeYBHBJxvLbL"
      },
      "outputs": [],
      "source": [
        "import pandas as pd\n",
        "\n",
        "\n",
        "\n",
        "DF = pd.read_csv('covid19tests.csv')\n",
        "\n",
        "\n"
      ]
    },
    {
      "cell_type": "markdown",
      "metadata": {},
      "source": [
        "Limpieza de datos\n",
        "\n",
        "camiar el tipo de los datos a numeros de punto flotante"
      ]
    },
    {
      "cell_type": "code",
      "execution_count": 82,
      "metadata": {
        "colab": {
          "base_uri": "https://localhost:8080/"
        },
        "id": "oM3LfOMUOFwX",
        "outputId": "a078c695-c584-4883-9545-e8b87512b097"
      },
      "outputs": [
        {
          "name": "stderr",
          "output_type": "stream",
          "text": [
            "C:\\Users\\Pc\\AppData\\Local\\Temp\\ipykernel_4172\\2586851052.py:3: FutureWarning: The default value of regex will change from True to False in a future version. In addition, single character regular expressions will *not* be treated as literal strings when regex=True.\n",
            "  DF['tests'] = DF['tests'].str.replace(\"*\", \"\")\n",
            "C:\\Users\\Pc\\AppData\\Local\\Temp\\ipykernel_4172\\2586851052.py:5: FutureWarning: The default value of regex will change from True to False in a future version. In addition, single character regular expressions will *not* be treated as literal strings when regex=True.\n",
            "  DF['positive'] = DF['positive'].str.replace(\"*\", \"\")\n"
          ]
        }
      ],
      "source": [
        "\n",
        "#quitar comas otros characteres de columnas numericass\n",
        "DF['tests'] = DF['tests'].str.replace(\",\", \"\")\n",
        "DF['tests'] = DF['tests'].str.replace(\"*\", \"\")\n",
        "DF['positive'] = DF['positive'].str.replace(\",\", \"\")\n",
        "DF['positive'] = DF['positive'].str.replace(\"*\", \"\")\n",
        "\n",
        "DF['testper1m'] = DF['testper1m'].str.replace(\",\", \"\")\n",
        "#cambiar el tipo de columnas a numeros de punto flotante\n",
        "DF[\"tests\"]= DF['tests'].astype(float)\n",
        "DF[\"positive\"]= DF['positive'].astype(float)\n",
        "DF[\"testper1m\"]= DF['testper1m'].astype(float)\n",
        "\n"
      ]
    },
    {
      "cell_type": "code",
      "execution_count": 83,
      "metadata": {
        "colab": {
          "base_uri": "https://localhost:8080/",
          "height": 363
        },
        "id": "QuzI-g7gOFwa",
        "outputId": "ead1a9c1-71bf-444c-b23f-5bc5aea3c447"
      },
      "outputs": [
        {
          "data": {
            "text/html": [
              "<div>\n",
              "<style scoped>\n",
              "    .dataframe tbody tr th:only-of-type {\n",
              "        vertical-align: middle;\n",
              "    }\n",
              "\n",
              "    .dataframe tbody tr th {\n",
              "        vertical-align: top;\n",
              "    }\n",
              "\n",
              "    .dataframe thead th {\n",
              "        text-align: right;\n",
              "    }\n",
              "</style>\n",
              "<table border=\"1\" class=\"dataframe\">\n",
              "  <thead>\n",
              "    <tr style=\"text-align: right;\">\n",
              "      <th></th>\n",
              "      <th>region</th>\n",
              "      <th>country</th>\n",
              "      <th>alpha3code</th>\n",
              "      <th>alpha2code</th>\n",
              "      <th>tests</th>\n",
              "      <th>positive</th>\n",
              "      <th>date</th>\n",
              "      <th>testper1m</th>\n",
              "      <th>positiveper1m</th>\n",
              "    </tr>\n",
              "  </thead>\n",
              "  <tbody>\n",
              "    <tr>\n",
              "      <th>0</th>\n",
              "      <td>NaN</td>\n",
              "      <td>Argentina</td>\n",
              "      <td>ARG</td>\n",
              "      <td>AR</td>\n",
              "      <td>4843.0</td>\n",
              "      <td>966.0</td>\n",
              "      <td>31-Mar</td>\n",
              "      <td>107.0</td>\n",
              "      <td>199.0</td>\n",
              "    </tr>\n",
              "    <tr>\n",
              "      <th>1</th>\n",
              "      <td>NaN</td>\n",
              "      <td>Armenia</td>\n",
              "      <td>ARM</td>\n",
              "      <td>AM</td>\n",
              "      <td>3603.0</td>\n",
              "      <td>663.0</td>\n",
              "      <td>2-Apr</td>\n",
              "      <td>1221.0</td>\n",
              "      <td>74.0</td>\n",
              "    </tr>\n",
              "    <tr>\n",
              "      <th>2</th>\n",
              "      <td>NaN</td>\n",
              "      <td>Australia</td>\n",
              "      <td>AUS</td>\n",
              "      <td>AU</td>\n",
              "      <td>277355.0</td>\n",
              "      <td>5358.0</td>\n",
              "      <td>3-Apr</td>\n",
              "      <td>10919.0</td>\n",
              "      <td>19.0</td>\n",
              "    </tr>\n",
              "    <tr>\n",
              "      <th>3</th>\n",
              "      <td>NaN</td>\n",
              "      <td>Austria</td>\n",
              "      <td>AUT</td>\n",
              "      <td>AT</td>\n",
              "      <td>98343.0</td>\n",
              "      <td>11350.0</td>\n",
              "      <td>3-Apr</td>\n",
              "      <td>11047.0</td>\n",
              "      <td>101.0</td>\n",
              "    </tr>\n",
              "    <tr>\n",
              "      <th>4</th>\n",
              "      <td>NaN</td>\n",
              "      <td>Azerbaijan</td>\n",
              "      <td>AZE</td>\n",
              "      <td>AZ</td>\n",
              "      <td>30000.0</td>\n",
              "      <td>443.0</td>\n",
              "      <td>3-Apr</td>\n",
              "      <td>3031.0</td>\n",
              "      <td>15.0</td>\n",
              "    </tr>\n",
              "    <tr>\n",
              "      <th>5</th>\n",
              "      <td>NaN</td>\n",
              "      <td>Bahrain</td>\n",
              "      <td>BHR</td>\n",
              "      <td>BH</td>\n",
              "      <td>37996.0</td>\n",
              "      <td>668.0</td>\n",
              "      <td>3-Apr</td>\n",
              "      <td>24210.0</td>\n",
              "      <td>17.6</td>\n",
              "    </tr>\n",
              "    <tr>\n",
              "      <th>6</th>\n",
              "      <td>NaN</td>\n",
              "      <td>Bangladesh</td>\n",
              "      <td>BGD</td>\n",
              "      <td>BD</td>\n",
              "      <td>1602.0</td>\n",
              "      <td>54.0</td>\n",
              "      <td>1-Apr</td>\n",
              "      <td>10.0</td>\n",
              "      <td>33.7</td>\n",
              "    </tr>\n",
              "    <tr>\n",
              "      <th>7</th>\n",
              "      <td>NaN</td>\n",
              "      <td>Barbados</td>\n",
              "      <td>BRB</td>\n",
              "      <td>BB</td>\n",
              "      <td>382.0</td>\n",
              "      <td>45.0</td>\n",
              "      <td>1-Apr</td>\n",
              "      <td>1331.0</td>\n",
              "      <td>118.0</td>\n",
              "    </tr>\n",
              "    <tr>\n",
              "      <th>8</th>\n",
              "      <td>NaN</td>\n",
              "      <td>Belarus</td>\n",
              "      <td>BLR</td>\n",
              "      <td>BY</td>\n",
              "      <td>32000.0</td>\n",
              "      <td>362.0</td>\n",
              "      <td>3-Apr</td>\n",
              "      <td>3371.0</td>\n",
              "      <td>11.3</td>\n",
              "    </tr>\n",
              "    <tr>\n",
              "      <th>9</th>\n",
              "      <td>NaN</td>\n",
              "      <td>Belgium</td>\n",
              "      <td>BEL</td>\n",
              "      <td>BE</td>\n",
              "      <td>18360.0</td>\n",
              "      <td>1486.0</td>\n",
              "      <td>18-Mar</td>\n",
              "      <td>1594.0</td>\n",
              "      <td>81.0</td>\n",
              "    </tr>\n",
              "  </tbody>\n",
              "</table>\n",
              "</div>"
            ],
            "text/plain": [
              "  region     country alpha3code alpha2code     tests  positive    date  \\\n",
              "0    NaN   Argentina        ARG         AR    4843.0     966.0  31-Mar   \n",
              "1    NaN     Armenia        ARM         AM    3603.0     663.0   2-Apr   \n",
              "2    NaN   Australia        AUS         AU  277355.0    5358.0   3-Apr   \n",
              "3    NaN     Austria        AUT         AT   98343.0   11350.0   3-Apr   \n",
              "4    NaN  Azerbaijan        AZE         AZ   30000.0     443.0   3-Apr   \n",
              "5    NaN     Bahrain        BHR         BH   37996.0     668.0   3-Apr   \n",
              "6    NaN  Bangladesh        BGD         BD    1602.0      54.0   1-Apr   \n",
              "7    NaN    Barbados        BRB         BB     382.0      45.0   1-Apr   \n",
              "8    NaN     Belarus        BLR         BY   32000.0     362.0   3-Apr   \n",
              "9    NaN     Belgium        BEL         BE   18360.0    1486.0  18-Mar   \n",
              "\n",
              "   testper1m  positiveper1m  \n",
              "0      107.0          199.0  \n",
              "1     1221.0           74.0  \n",
              "2    10919.0           19.0  \n",
              "3    11047.0          101.0  \n",
              "4     3031.0           15.0  \n",
              "5    24210.0           17.6  \n",
              "6       10.0           33.7  \n",
              "7     1331.0          118.0  \n",
              "8     3371.0           11.3  \n",
              "9     1594.0           81.0  "
            ]
          },
          "execution_count": 83,
          "metadata": {},
          "output_type": "execute_result"
        }
      ],
      "source": [
        "DF.head(10)"
      ]
    },
    {
      "cell_type": "code",
      "execution_count": 84,
      "metadata": {
        "colab": {
          "base_uri": "https://localhost:8080/",
          "height": 363
        },
        "id": "v4XGPsqzOFwb",
        "outputId": "e98fdf3b-5b57-45e8-bddf-251cd6f3eb7e"
      },
      "outputs": [
        {
          "data": {
            "text/html": [
              "<div>\n",
              "<style scoped>\n",
              "    .dataframe tbody tr th:only-of-type {\n",
              "        vertical-align: middle;\n",
              "    }\n",
              "\n",
              "    .dataframe tbody tr th {\n",
              "        vertical-align: top;\n",
              "    }\n",
              "\n",
              "    .dataframe thead th {\n",
              "        text-align: right;\n",
              "    }\n",
              "</style>\n",
              "<table border=\"1\" class=\"dataframe\">\n",
              "  <thead>\n",
              "    <tr style=\"text-align: right;\">\n",
              "      <th></th>\n",
              "      <th>region</th>\n",
              "      <th>country</th>\n",
              "      <th>alpha3code</th>\n",
              "      <th>alpha2code</th>\n",
              "      <th>tests</th>\n",
              "      <th>positive</th>\n",
              "      <th>date</th>\n",
              "      <th>testper1m</th>\n",
              "      <th>positiveper1m</th>\n",
              "    </tr>\n",
              "  </thead>\n",
              "  <tbody>\n",
              "    <tr>\n",
              "      <th>101</th>\n",
              "      <td>Illinos</td>\n",
              "      <td>US</td>\n",
              "      <td>USA</td>\n",
              "      <td>US</td>\n",
              "      <td>43656.0</td>\n",
              "      <td>7695.0</td>\n",
              "      <td>2-Apr</td>\n",
              "      <td>3445.0</td>\n",
              "      <td>176.0</td>\n",
              "    </tr>\n",
              "    <tr>\n",
              "      <th>102</th>\n",
              "      <td>Louisiana</td>\n",
              "      <td>US</td>\n",
              "      <td>USA</td>\n",
              "      <td>US</td>\n",
              "      <td>51086.0</td>\n",
              "      <td>9150.0</td>\n",
              "      <td>2-Apr</td>\n",
              "      <td>10963.0</td>\n",
              "      <td>126.0</td>\n",
              "    </tr>\n",
              "    <tr>\n",
              "      <th>103</th>\n",
              "      <td>New York</td>\n",
              "      <td>US</td>\n",
              "      <td>USA</td>\n",
              "      <td>US</td>\n",
              "      <td>238965.0</td>\n",
              "      <td>92381.0</td>\n",
              "      <td>2-Apr</td>\n",
              "      <td>12284.0</td>\n",
              "      <td>387.0</td>\n",
              "    </tr>\n",
              "    <tr>\n",
              "      <th>104</th>\n",
              "      <td>New Jersey</td>\n",
              "      <td>US</td>\n",
              "      <td>USA</td>\n",
              "      <td>US</td>\n",
              "      <td>59110.0</td>\n",
              "      <td>25590.0</td>\n",
              "      <td>2-Apr</td>\n",
              "      <td>6655.0</td>\n",
              "      <td>433.0</td>\n",
              "    </tr>\n",
              "    <tr>\n",
              "      <th>105</th>\n",
              "      <td>Michigan</td>\n",
              "      <td>US</td>\n",
              "      <td>USA</td>\n",
              "      <td>US</td>\n",
              "      <td>22684.0</td>\n",
              "      <td>10791.0</td>\n",
              "      <td>2-Apr</td>\n",
              "      <td>2264.0</td>\n",
              "      <td>476.0</td>\n",
              "    </tr>\n",
              "    <tr>\n",
              "      <th>106</th>\n",
              "      <td>Texas</td>\n",
              "      <td>US</td>\n",
              "      <td>USA</td>\n",
              "      <td>US</td>\n",
              "      <td>50679.0</td>\n",
              "      <td>4669.0</td>\n",
              "      <td>2-Apr</td>\n",
              "      <td>1748.0</td>\n",
              "      <td>92.0</td>\n",
              "    </tr>\n",
              "    <tr>\n",
              "      <th>107</th>\n",
              "      <td>Washington</td>\n",
              "      <td>US</td>\n",
              "      <td>USA</td>\n",
              "      <td>US</td>\n",
              "      <td>79418.0</td>\n",
              "      <td>6585.0</td>\n",
              "      <td>1-Apr</td>\n",
              "      <td>10429.0</td>\n",
              "      <td>86.0</td>\n",
              "    </tr>\n",
              "    <tr>\n",
              "      <th>108</th>\n",
              "      <td>NaN</td>\n",
              "      <td>Uruguay</td>\n",
              "      <td>URY</td>\n",
              "      <td>UY</td>\n",
              "      <td>1538.0</td>\n",
              "      <td>189.0</td>\n",
              "      <td>24-Mar</td>\n",
              "      <td>443.0</td>\n",
              "      <td>123.0</td>\n",
              "    </tr>\n",
              "    <tr>\n",
              "      <th>109</th>\n",
              "      <td>NaN</td>\n",
              "      <td>Venezuela</td>\n",
              "      <td>VEN</td>\n",
              "      <td>VE</td>\n",
              "      <td>1779.0</td>\n",
              "      <td>143.0</td>\n",
              "      <td>31-Mar</td>\n",
              "      <td>62.0</td>\n",
              "      <td>80.4</td>\n",
              "    </tr>\n",
              "    <tr>\n",
              "      <th>110</th>\n",
              "      <td>NaN</td>\n",
              "      <td>Vietnam</td>\n",
              "      <td>VNM</td>\n",
              "      <td>VN</td>\n",
              "      <td>73164.0</td>\n",
              "      <td>233.0</td>\n",
              "      <td>3-Apr</td>\n",
              "      <td>760.0</td>\n",
              "      <td>3.2</td>\n",
              "    </tr>\n",
              "  </tbody>\n",
              "</table>\n",
              "</div>"
            ],
            "text/plain": [
              "         region    country alpha3code alpha2code     tests  positive    date  \\\n",
              "101     Illinos         US        USA         US   43656.0    7695.0   2-Apr   \n",
              "102   Louisiana         US        USA         US   51086.0    9150.0   2-Apr   \n",
              "103    New York         US        USA         US  238965.0   92381.0   2-Apr   \n",
              "104  New Jersey         US        USA         US   59110.0   25590.0   2-Apr   \n",
              "105    Michigan         US        USA         US   22684.0   10791.0   2-Apr   \n",
              "106       Texas         US        USA         US   50679.0    4669.0   2-Apr   \n",
              "107  Washington         US        USA         US   79418.0    6585.0   1-Apr   \n",
              "108         NaN    Uruguay        URY         UY    1538.0     189.0  24-Mar   \n",
              "109         NaN  Venezuela        VEN         VE    1779.0     143.0  31-Mar   \n",
              "110         NaN    Vietnam        VNM         VN   73164.0     233.0   3-Apr   \n",
              "\n",
              "     testper1m  positiveper1m  \n",
              "101     3445.0          176.0  \n",
              "102    10963.0          126.0  \n",
              "103    12284.0          387.0  \n",
              "104     6655.0          433.0  \n",
              "105     2264.0          476.0  \n",
              "106     1748.0           92.0  \n",
              "107    10429.0           86.0  \n",
              "108      443.0          123.0  \n",
              "109       62.0           80.4  \n",
              "110      760.0            3.2  "
            ]
          },
          "execution_count": 84,
          "metadata": {},
          "output_type": "execute_result"
        }
      ],
      "source": [
        "DF.tail(10)"
      ]
    },
    {
      "cell_type": "code",
      "execution_count": 85,
      "metadata": {
        "colab": {
          "base_uri": "https://localhost:8080/"
        },
        "id": "hwzGY_jCOFwc",
        "outputId": "15ec7de4-6474-46d2-a01d-73115f67b712"
      },
      "outputs": [
        {
          "name": "stdout",
          "output_type": "stream",
          "text": [
            "<class 'pandas.core.frame.DataFrame'>\n",
            "RangeIndex: 111 entries, 0 to 110\n",
            "Data columns (total 9 columns):\n",
            " #   Column         Non-Null Count  Dtype  \n",
            "---  ------         --------------  -----  \n",
            " 0   region         31 non-null     object \n",
            " 1   country        111 non-null    object \n",
            " 2   alpha3code     110 non-null    object \n",
            " 3   alpha2code     111 non-null    object \n",
            " 4   tests          111 non-null    float64\n",
            " 5   positive       109 non-null    float64\n",
            " 6   date           111 non-null    object \n",
            " 7   testper1m      111 non-null    float64\n",
            " 8   positiveper1m  110 non-null    float64\n",
            "dtypes: float64(4), object(5)\n",
            "memory usage: 7.9+ KB\n"
          ]
        }
      ],
      "source": [
        "DF.info()"
      ]
    },
    {
      "cell_type": "code",
      "execution_count": 86,
      "metadata": {
        "colab": {
          "base_uri": "https://localhost:8080/"
        },
        "id": "HeY3FnCbOFwc",
        "outputId": "2e2177e4-cb2a-4493-f01f-fa5f8f160905"
      },
      "outputs": [
        {
          "data": {
            "text/plain": [
              "(111, 9)"
            ]
          },
          "execution_count": 86,
          "metadata": {},
          "output_type": "execute_result"
        }
      ],
      "source": [
        "DF.shape"
      ]
    },
    {
      "cell_type": "markdown",
      "metadata": {},
      "source": [
        "Agregar columna con tasa de casos positivos"
      ]
    },
    {
      "cell_type": "code",
      "execution_count": 87,
      "metadata": {
        "colab": {
          "base_uri": "https://localhost:8080/",
          "height": 424
        },
        "id": "ls1nVBNgOFwh",
        "outputId": "6914be92-87a7-416d-ab28-a1b150d19444"
      },
      "outputs": [
        {
          "data": {
            "text/html": [
              "<div>\n",
              "<style scoped>\n",
              "    .dataframe tbody tr th:only-of-type {\n",
              "        vertical-align: middle;\n",
              "    }\n",
              "\n",
              "    .dataframe tbody tr th {\n",
              "        vertical-align: top;\n",
              "    }\n",
              "\n",
              "    .dataframe thead th {\n",
              "        text-align: right;\n",
              "    }\n",
              "</style>\n",
              "<table border=\"1\" class=\"dataframe\">\n",
              "  <thead>\n",
              "    <tr style=\"text-align: right;\">\n",
              "      <th></th>\n",
              "      <th>region</th>\n",
              "      <th>country</th>\n",
              "      <th>alpha3code</th>\n",
              "      <th>alpha2code</th>\n",
              "      <th>tests</th>\n",
              "      <th>positive</th>\n",
              "      <th>date</th>\n",
              "      <th>testper1m</th>\n",
              "      <th>positiveper1m</th>\n",
              "      <th>ratepositive</th>\n",
              "    </tr>\n",
              "  </thead>\n",
              "  <tbody>\n",
              "    <tr>\n",
              "      <th>0</th>\n",
              "      <td>NaN</td>\n",
              "      <td>Argentina</td>\n",
              "      <td>ARG</td>\n",
              "      <td>AR</td>\n",
              "      <td>4843.0</td>\n",
              "      <td>966.0</td>\n",
              "      <td>31-Mar</td>\n",
              "      <td>107.0</td>\n",
              "      <td>199.0</td>\n",
              "      <td>0.199463</td>\n",
              "    </tr>\n",
              "    <tr>\n",
              "      <th>1</th>\n",
              "      <td>NaN</td>\n",
              "      <td>Armenia</td>\n",
              "      <td>ARM</td>\n",
              "      <td>AM</td>\n",
              "      <td>3603.0</td>\n",
              "      <td>663.0</td>\n",
              "      <td>2-Apr</td>\n",
              "      <td>1221.0</td>\n",
              "      <td>74.0</td>\n",
              "      <td>0.184013</td>\n",
              "    </tr>\n",
              "    <tr>\n",
              "      <th>2</th>\n",
              "      <td>NaN</td>\n",
              "      <td>Australia</td>\n",
              "      <td>AUS</td>\n",
              "      <td>AU</td>\n",
              "      <td>277355.0</td>\n",
              "      <td>5358.0</td>\n",
              "      <td>3-Apr</td>\n",
              "      <td>10919.0</td>\n",
              "      <td>19.0</td>\n",
              "      <td>0.019318</td>\n",
              "    </tr>\n",
              "    <tr>\n",
              "      <th>3</th>\n",
              "      <td>NaN</td>\n",
              "      <td>Austria</td>\n",
              "      <td>AUT</td>\n",
              "      <td>AT</td>\n",
              "      <td>98343.0</td>\n",
              "      <td>11350.0</td>\n",
              "      <td>3-Apr</td>\n",
              "      <td>11047.0</td>\n",
              "      <td>101.0</td>\n",
              "      <td>0.115412</td>\n",
              "    </tr>\n",
              "    <tr>\n",
              "      <th>4</th>\n",
              "      <td>NaN</td>\n",
              "      <td>Azerbaijan</td>\n",
              "      <td>AZE</td>\n",
              "      <td>AZ</td>\n",
              "      <td>30000.0</td>\n",
              "      <td>443.0</td>\n",
              "      <td>3-Apr</td>\n",
              "      <td>3031.0</td>\n",
              "      <td>15.0</td>\n",
              "      <td>0.014767</td>\n",
              "    </tr>\n",
              "    <tr>\n",
              "      <th>...</th>\n",
              "      <td>...</td>\n",
              "      <td>...</td>\n",
              "      <td>...</td>\n",
              "      <td>...</td>\n",
              "      <td>...</td>\n",
              "      <td>...</td>\n",
              "      <td>...</td>\n",
              "      <td>...</td>\n",
              "      <td>...</td>\n",
              "      <td>...</td>\n",
              "    </tr>\n",
              "    <tr>\n",
              "      <th>106</th>\n",
              "      <td>Texas</td>\n",
              "      <td>US</td>\n",
              "      <td>USA</td>\n",
              "      <td>US</td>\n",
              "      <td>50679.0</td>\n",
              "      <td>4669.0</td>\n",
              "      <td>2-Apr</td>\n",
              "      <td>1748.0</td>\n",
              "      <td>92.0</td>\n",
              "      <td>0.092129</td>\n",
              "    </tr>\n",
              "    <tr>\n",
              "      <th>107</th>\n",
              "      <td>Washington</td>\n",
              "      <td>US</td>\n",
              "      <td>USA</td>\n",
              "      <td>US</td>\n",
              "      <td>79418.0</td>\n",
              "      <td>6585.0</td>\n",
              "      <td>1-Apr</td>\n",
              "      <td>10429.0</td>\n",
              "      <td>86.0</td>\n",
              "      <td>0.082916</td>\n",
              "    </tr>\n",
              "    <tr>\n",
              "      <th>108</th>\n",
              "      <td>NaN</td>\n",
              "      <td>Uruguay</td>\n",
              "      <td>URY</td>\n",
              "      <td>UY</td>\n",
              "      <td>1538.0</td>\n",
              "      <td>189.0</td>\n",
              "      <td>24-Mar</td>\n",
              "      <td>443.0</td>\n",
              "      <td>123.0</td>\n",
              "      <td>0.122887</td>\n",
              "    </tr>\n",
              "    <tr>\n",
              "      <th>109</th>\n",
              "      <td>NaN</td>\n",
              "      <td>Venezuela</td>\n",
              "      <td>VEN</td>\n",
              "      <td>VE</td>\n",
              "      <td>1779.0</td>\n",
              "      <td>143.0</td>\n",
              "      <td>31-Mar</td>\n",
              "      <td>62.0</td>\n",
              "      <td>80.4</td>\n",
              "      <td>0.080382</td>\n",
              "    </tr>\n",
              "    <tr>\n",
              "      <th>110</th>\n",
              "      <td>NaN</td>\n",
              "      <td>Vietnam</td>\n",
              "      <td>VNM</td>\n",
              "      <td>VN</td>\n",
              "      <td>73164.0</td>\n",
              "      <td>233.0</td>\n",
              "      <td>3-Apr</td>\n",
              "      <td>760.0</td>\n",
              "      <td>3.2</td>\n",
              "      <td>0.003185</td>\n",
              "    </tr>\n",
              "  </tbody>\n",
              "</table>\n",
              "<p>111 rows × 10 columns</p>\n",
              "</div>"
            ],
            "text/plain": [
              "         region     country alpha3code alpha2code     tests  positive    date  \\\n",
              "0           NaN   Argentina        ARG         AR    4843.0     966.0  31-Mar   \n",
              "1           NaN     Armenia        ARM         AM    3603.0     663.0   2-Apr   \n",
              "2           NaN   Australia        AUS         AU  277355.0    5358.0   3-Apr   \n",
              "3           NaN     Austria        AUT         AT   98343.0   11350.0   3-Apr   \n",
              "4           NaN  Azerbaijan        AZE         AZ   30000.0     443.0   3-Apr   \n",
              "..          ...         ...        ...        ...       ...       ...     ...   \n",
              "106       Texas          US        USA         US   50679.0    4669.0   2-Apr   \n",
              "107  Washington          US        USA         US   79418.0    6585.0   1-Apr   \n",
              "108         NaN     Uruguay        URY         UY    1538.0     189.0  24-Mar   \n",
              "109         NaN   Venezuela        VEN         VE    1779.0     143.0  31-Mar   \n",
              "110         NaN     Vietnam        VNM         VN   73164.0     233.0   3-Apr   \n",
              "\n",
              "     testper1m  positiveper1m  ratepositive  \n",
              "0        107.0          199.0      0.199463  \n",
              "1       1221.0           74.0      0.184013  \n",
              "2      10919.0           19.0      0.019318  \n",
              "3      11047.0          101.0      0.115412  \n",
              "4       3031.0           15.0      0.014767  \n",
              "..         ...            ...           ...  \n",
              "106     1748.0           92.0      0.092129  \n",
              "107    10429.0           86.0      0.082916  \n",
              "108      443.0          123.0      0.122887  \n",
              "109       62.0           80.4      0.080382  \n",
              "110      760.0            3.2      0.003185  \n",
              "\n",
              "[111 rows x 10 columns]"
            ]
          },
          "execution_count": 87,
          "metadata": {},
          "output_type": "execute_result"
        }
      ],
      "source": [
        "DF[\"ratepositive\"] = DF.positive/DF.tests\n",
        "DF"
      ]
    },
    {
      "cell_type": "markdown",
      "metadata": {},
      "source": [
        "Hacer nuevo data frame para separa los datos regionales del resto del data frame"
      ]
    },
    {
      "cell_type": "code",
      "execution_count": 88,
      "metadata": {
        "colab": {
          "base_uri": "https://localhost:8080/",
          "height": 468
        },
        "id": "iBCoI5QHOFwg",
        "outputId": "95041bcc-4901-4120-b768-76291ce09378"
      },
      "outputs": [
        {
          "data": {
            "text/html": [
              "<div>\n",
              "<style scoped>\n",
              "    .dataframe tbody tr th:only-of-type {\n",
              "        vertical-align: middle;\n",
              "    }\n",
              "\n",
              "    .dataframe tbody tr th {\n",
              "        vertical-align: top;\n",
              "    }\n",
              "\n",
              "    .dataframe thead th {\n",
              "        text-align: right;\n",
              "    }\n",
              "</style>\n",
              "<table border=\"1\" class=\"dataframe\">\n",
              "  <thead>\n",
              "    <tr style=\"text-align: right;\">\n",
              "      <th></th>\n",
              "      <th>region</th>\n",
              "      <th>country</th>\n",
              "      <th>alpha3code</th>\n",
              "      <th>alpha2code</th>\n",
              "      <th>tests</th>\n",
              "      <th>positive</th>\n",
              "      <th>date</th>\n",
              "      <th>testper1m</th>\n",
              "      <th>positiveper1m</th>\n",
              "      <th>ratepositive</th>\n",
              "    </tr>\n",
              "  </thead>\n",
              "  <tbody>\n",
              "    <tr>\n",
              "      <th>0</th>\n",
              "      <td>NaN</td>\n",
              "      <td>Argentina</td>\n",
              "      <td>ARG</td>\n",
              "      <td>AR</td>\n",
              "      <td>4843.0</td>\n",
              "      <td>966.0</td>\n",
              "      <td>31-Mar</td>\n",
              "      <td>107.0</td>\n",
              "      <td>199.0</td>\n",
              "      <td>0.199463</td>\n",
              "    </tr>\n",
              "    <tr>\n",
              "      <th>1</th>\n",
              "      <td>NaN</td>\n",
              "      <td>Armenia</td>\n",
              "      <td>ARM</td>\n",
              "      <td>AM</td>\n",
              "      <td>3603.0</td>\n",
              "      <td>663.0</td>\n",
              "      <td>2-Apr</td>\n",
              "      <td>1221.0</td>\n",
              "      <td>74.0</td>\n",
              "      <td>0.184013</td>\n",
              "    </tr>\n",
              "    <tr>\n",
              "      <th>2</th>\n",
              "      <td>NaN</td>\n",
              "      <td>Australia</td>\n",
              "      <td>AUS</td>\n",
              "      <td>AU</td>\n",
              "      <td>277355.0</td>\n",
              "      <td>5358.0</td>\n",
              "      <td>3-Apr</td>\n",
              "      <td>10919.0</td>\n",
              "      <td>19.0</td>\n",
              "      <td>0.019318</td>\n",
              "    </tr>\n",
              "    <tr>\n",
              "      <th>3</th>\n",
              "      <td>NaN</td>\n",
              "      <td>Austria</td>\n",
              "      <td>AUT</td>\n",
              "      <td>AT</td>\n",
              "      <td>98343.0</td>\n",
              "      <td>11350.0</td>\n",
              "      <td>3-Apr</td>\n",
              "      <td>11047.0</td>\n",
              "      <td>101.0</td>\n",
              "      <td>0.115412</td>\n",
              "    </tr>\n",
              "    <tr>\n",
              "      <th>4</th>\n",
              "      <td>NaN</td>\n",
              "      <td>Azerbaijan</td>\n",
              "      <td>AZE</td>\n",
              "      <td>AZ</td>\n",
              "      <td>30000.0</td>\n",
              "      <td>443.0</td>\n",
              "      <td>3-Apr</td>\n",
              "      <td>3031.0</td>\n",
              "      <td>15.0</td>\n",
              "      <td>0.014767</td>\n",
              "    </tr>\n",
              "    <tr>\n",
              "      <th>...</th>\n",
              "      <td>...</td>\n",
              "      <td>...</td>\n",
              "      <td>...</td>\n",
              "      <td>...</td>\n",
              "      <td>...</td>\n",
              "      <td>...</td>\n",
              "      <td>...</td>\n",
              "      <td>...</td>\n",
              "      <td>...</td>\n",
              "      <td>...</td>\n",
              "    </tr>\n",
              "    <tr>\n",
              "      <th>97</th>\n",
              "      <td>NaN</td>\n",
              "      <td>United Kingdom</td>\n",
              "      <td>GBR</td>\n",
              "      <td>GB</td>\n",
              "      <td>163194.0</td>\n",
              "      <td>33718.0</td>\n",
              "      <td>2-Apr</td>\n",
              "      <td>2416.0</td>\n",
              "      <td>207.0</td>\n",
              "      <td>0.206613</td>\n",
              "    </tr>\n",
              "    <tr>\n",
              "      <th>98</th>\n",
              "      <td>NaN</td>\n",
              "      <td>US</td>\n",
              "      <td>USA</td>\n",
              "      <td>US</td>\n",
              "      <td>1350219.0</td>\n",
              "      <td>241734.0</td>\n",
              "      <td>2-Apr</td>\n",
              "      <td>4114.0</td>\n",
              "      <td>179.0</td>\n",
              "      <td>0.179033</td>\n",
              "    </tr>\n",
              "    <tr>\n",
              "      <th>108</th>\n",
              "      <td>NaN</td>\n",
              "      <td>Uruguay</td>\n",
              "      <td>URY</td>\n",
              "      <td>UY</td>\n",
              "      <td>1538.0</td>\n",
              "      <td>189.0</td>\n",
              "      <td>24-Mar</td>\n",
              "      <td>443.0</td>\n",
              "      <td>123.0</td>\n",
              "      <td>0.122887</td>\n",
              "    </tr>\n",
              "    <tr>\n",
              "      <th>109</th>\n",
              "      <td>NaN</td>\n",
              "      <td>Venezuela</td>\n",
              "      <td>VEN</td>\n",
              "      <td>VE</td>\n",
              "      <td>1779.0</td>\n",
              "      <td>143.0</td>\n",
              "      <td>31-Mar</td>\n",
              "      <td>62.0</td>\n",
              "      <td>80.4</td>\n",
              "      <td>0.080382</td>\n",
              "    </tr>\n",
              "    <tr>\n",
              "      <th>110</th>\n",
              "      <td>NaN</td>\n",
              "      <td>Vietnam</td>\n",
              "      <td>VNM</td>\n",
              "      <td>VN</td>\n",
              "      <td>73164.0</td>\n",
              "      <td>233.0</td>\n",
              "      <td>3-Apr</td>\n",
              "      <td>760.0</td>\n",
              "      <td>3.2</td>\n",
              "      <td>0.003185</td>\n",
              "    </tr>\n",
              "  </tbody>\n",
              "</table>\n",
              "<p>80 rows × 10 columns</p>\n",
              "</div>"
            ],
            "text/plain": [
              "    region         country alpha3code alpha2code      tests  positive    date  \\\n",
              "0      NaN       Argentina        ARG         AR     4843.0     966.0  31-Mar   \n",
              "1      NaN         Armenia        ARM         AM     3603.0     663.0   2-Apr   \n",
              "2      NaN       Australia        AUS         AU   277355.0    5358.0   3-Apr   \n",
              "3      NaN         Austria        AUT         AT    98343.0   11350.0   3-Apr   \n",
              "4      NaN      Azerbaijan        AZE         AZ    30000.0     443.0   3-Apr   \n",
              "..     ...             ...        ...        ...        ...       ...     ...   \n",
              "97     NaN  United Kingdom        GBR         GB   163194.0   33718.0   2-Apr   \n",
              "98     NaN              US        USA         US  1350219.0  241734.0   2-Apr   \n",
              "108    NaN         Uruguay        URY         UY     1538.0     189.0  24-Mar   \n",
              "109    NaN       Venezuela        VEN         VE     1779.0     143.0  31-Mar   \n",
              "110    NaN         Vietnam        VNM         VN    73164.0     233.0   3-Apr   \n",
              "\n",
              "     testper1m  positiveper1m  ratepositive  \n",
              "0        107.0          199.0      0.199463  \n",
              "1       1221.0           74.0      0.184013  \n",
              "2      10919.0           19.0      0.019318  \n",
              "3      11047.0          101.0      0.115412  \n",
              "4       3031.0           15.0      0.014767  \n",
              "..         ...            ...           ...  \n",
              "97      2416.0          207.0      0.206613  \n",
              "98      4114.0          179.0      0.179033  \n",
              "108      443.0          123.0      0.122887  \n",
              "109       62.0           80.4      0.080382  \n",
              "110      760.0            3.2      0.003185  \n",
              "\n",
              "[80 rows x 10 columns]"
            ]
          },
          "execution_count": 88,
          "metadata": {},
          "output_type": "execute_result"
        }
      ],
      "source": [
        "df_c = DF[DF[\"region\"].isnull()]\n",
        "df_c"
      ]
    },
    {
      "cell_type": "markdown",
      "metadata": {},
      "source": [
        "Nuevo data frame con los datos para separar datos regionales de USA"
      ]
    },
    {
      "cell_type": "code",
      "execution_count": 89,
      "metadata": {
        "colab": {
          "base_uri": "https://localhost:8080/",
          "height": 332
        },
        "id": "GF9XJm2wU67v",
        "outputId": "a7b2f8d8-e89e-40ae-db4d-f1dd7cc2584f"
      },
      "outputs": [
        {
          "data": {
            "text/html": [
              "<div>\n",
              "<style scoped>\n",
              "    .dataframe tbody tr th:only-of-type {\n",
              "        vertical-align: middle;\n",
              "    }\n",
              "\n",
              "    .dataframe tbody tr th {\n",
              "        vertical-align: top;\n",
              "    }\n",
              "\n",
              "    .dataframe thead th {\n",
              "        text-align: right;\n",
              "    }\n",
              "</style>\n",
              "<table border=\"1\" class=\"dataframe\">\n",
              "  <thead>\n",
              "    <tr style=\"text-align: right;\">\n",
              "      <th></th>\n",
              "      <th>region</th>\n",
              "      <th>country</th>\n",
              "      <th>alpha3code</th>\n",
              "      <th>alpha2code</th>\n",
              "      <th>tests</th>\n",
              "      <th>positive</th>\n",
              "      <th>date</th>\n",
              "      <th>testper1m</th>\n",
              "      <th>positiveper1m</th>\n",
              "      <th>ratepositive</th>\n",
              "    </tr>\n",
              "  </thead>\n",
              "  <tbody>\n",
              "    <tr>\n",
              "      <th>99</th>\n",
              "      <td>California</td>\n",
              "      <td>US</td>\n",
              "      <td>USA</td>\n",
              "      <td>US</td>\n",
              "      <td>92500.0</td>\n",
              "      <td>9191.0</td>\n",
              "      <td>2-Apr</td>\n",
              "      <td>2341.0</td>\n",
              "      <td>99.0</td>\n",
              "      <td>0.099362</td>\n",
              "    </tr>\n",
              "    <tr>\n",
              "      <th>100</th>\n",
              "      <td>Florida</td>\n",
              "      <td>US</td>\n",
              "      <td>USA</td>\n",
              "      <td>US</td>\n",
              "      <td>80356.0</td>\n",
              "      <td>9008.0</td>\n",
              "      <td>3-Apr</td>\n",
              "      <td>3741.0</td>\n",
              "      <td>115.0</td>\n",
              "      <td>0.112101</td>\n",
              "    </tr>\n",
              "    <tr>\n",
              "      <th>101</th>\n",
              "      <td>Illinos</td>\n",
              "      <td>US</td>\n",
              "      <td>USA</td>\n",
              "      <td>US</td>\n",
              "      <td>43656.0</td>\n",
              "      <td>7695.0</td>\n",
              "      <td>2-Apr</td>\n",
              "      <td>3445.0</td>\n",
              "      <td>176.0</td>\n",
              "      <td>0.176264</td>\n",
              "    </tr>\n",
              "    <tr>\n",
              "      <th>102</th>\n",
              "      <td>Louisiana</td>\n",
              "      <td>US</td>\n",
              "      <td>USA</td>\n",
              "      <td>US</td>\n",
              "      <td>51086.0</td>\n",
              "      <td>9150.0</td>\n",
              "      <td>2-Apr</td>\n",
              "      <td>10963.0</td>\n",
              "      <td>126.0</td>\n",
              "      <td>0.179110</td>\n",
              "    </tr>\n",
              "    <tr>\n",
              "      <th>103</th>\n",
              "      <td>New York</td>\n",
              "      <td>US</td>\n",
              "      <td>USA</td>\n",
              "      <td>US</td>\n",
              "      <td>238965.0</td>\n",
              "      <td>92381.0</td>\n",
              "      <td>2-Apr</td>\n",
              "      <td>12284.0</td>\n",
              "      <td>387.0</td>\n",
              "      <td>0.386588</td>\n",
              "    </tr>\n",
              "    <tr>\n",
              "      <th>104</th>\n",
              "      <td>New Jersey</td>\n",
              "      <td>US</td>\n",
              "      <td>USA</td>\n",
              "      <td>US</td>\n",
              "      <td>59110.0</td>\n",
              "      <td>25590.0</td>\n",
              "      <td>2-Apr</td>\n",
              "      <td>6655.0</td>\n",
              "      <td>433.0</td>\n",
              "      <td>0.432922</td>\n",
              "    </tr>\n",
              "    <tr>\n",
              "      <th>105</th>\n",
              "      <td>Michigan</td>\n",
              "      <td>US</td>\n",
              "      <td>USA</td>\n",
              "      <td>US</td>\n",
              "      <td>22684.0</td>\n",
              "      <td>10791.0</td>\n",
              "      <td>2-Apr</td>\n",
              "      <td>2264.0</td>\n",
              "      <td>476.0</td>\n",
              "      <td>0.475710</td>\n",
              "    </tr>\n",
              "    <tr>\n",
              "      <th>106</th>\n",
              "      <td>Texas</td>\n",
              "      <td>US</td>\n",
              "      <td>USA</td>\n",
              "      <td>US</td>\n",
              "      <td>50679.0</td>\n",
              "      <td>4669.0</td>\n",
              "      <td>2-Apr</td>\n",
              "      <td>1748.0</td>\n",
              "      <td>92.0</td>\n",
              "      <td>0.092129</td>\n",
              "    </tr>\n",
              "    <tr>\n",
              "      <th>107</th>\n",
              "      <td>Washington</td>\n",
              "      <td>US</td>\n",
              "      <td>USA</td>\n",
              "      <td>US</td>\n",
              "      <td>79418.0</td>\n",
              "      <td>6585.0</td>\n",
              "      <td>1-Apr</td>\n",
              "      <td>10429.0</td>\n",
              "      <td>86.0</td>\n",
              "      <td>0.082916</td>\n",
              "    </tr>\n",
              "  </tbody>\n",
              "</table>\n",
              "</div>"
            ],
            "text/plain": [
              "         region country alpha3code alpha2code     tests  positive   date  \\\n",
              "99   California      US        USA         US   92500.0    9191.0  2-Apr   \n",
              "100     Florida      US        USA         US   80356.0    9008.0  3-Apr   \n",
              "101     Illinos      US        USA         US   43656.0    7695.0  2-Apr   \n",
              "102   Louisiana      US        USA         US   51086.0    9150.0  2-Apr   \n",
              "103    New York      US        USA         US  238965.0   92381.0  2-Apr   \n",
              "104  New Jersey      US        USA         US   59110.0   25590.0  2-Apr   \n",
              "105    Michigan      US        USA         US   22684.0   10791.0  2-Apr   \n",
              "106       Texas      US        USA         US   50679.0    4669.0  2-Apr   \n",
              "107  Washington      US        USA         US   79418.0    6585.0  1-Apr   \n",
              "\n",
              "     testper1m  positiveper1m  ratepositive  \n",
              "99      2341.0           99.0      0.099362  \n",
              "100     3741.0          115.0      0.112101  \n",
              "101     3445.0          176.0      0.176264  \n",
              "102    10963.0          126.0      0.179110  \n",
              "103    12284.0          387.0      0.386588  \n",
              "104     6655.0          433.0      0.432922  \n",
              "105     2264.0          476.0      0.475710  \n",
              "106     1748.0           92.0      0.092129  \n",
              "107    10429.0           86.0      0.082916  "
            ]
          },
          "execution_count": 89,
          "metadata": {},
          "output_type": "execute_result"
        }
      ],
      "source": [
        "df_usa = DF[DF[\"alpha3code\"] == \"USA\"]\n",
        "df_usa = df_usa[df_usa[\"region\"].notnull()]\n",
        "df_usa"
      ]
    },
    {
      "cell_type": "markdown",
      "metadata": {},
      "source": [
        "Estados de USA con tasas de pruebas positivas mas altas"
      ]
    },
    {
      "cell_type": "code",
      "execution_count": 90,
      "metadata": {
        "colab": {
          "base_uri": "https://localhost:8080/",
          "height": 345
        },
        "id": "NQeAaz1eWv4N",
        "outputId": "a9865446-6df6-4478-e24f-28c38fe1bb77"
      },
      "outputs": [
        {
          "data": {
            "text/plain": [
              "<AxesSubplot: ylabel='region'>"
            ]
          },
          "execution_count": 90,
          "metadata": {},
          "output_type": "execute_result"
        },
        {
          "data": {
            "image/png": "[encoded data removed]",
            "text/plain": [
              "<Figure size 640x480 with 1 Axes>"
            ]
          },
          "metadata": {},
          "output_type": "display_data"
        }
      ],
      "source": [
        "plot_rate_us = pd.DataFrame(df_usa.groupby(by='region').ratepositive.sum())\n",
        "plot_rate_us = plot_rate_us.sort_values(\"ratepositive\", ascending=False).head(10)\n",
        "\n",
        "plot_rate_us.plot(kind='barh')"
      ]
    },
    {
      "cell_type": "markdown",
      "metadata": {},
      "source": [
        "Estados que realizaron mayor numero de pruebas"
      ]
    },
    {
      "cell_type": "code",
      "execution_count": 91,
      "metadata": {},
      "outputs": [
        {
          "data": {
            "text/plain": [
              "<AxesSubplot: ylabel='region'>"
            ]
          },
          "execution_count": 91,
          "metadata": {},
          "output_type": "execute_result"
        },
        {
          "data": {
            "image/png": "[encoded data removed]",
            "text/plain": [
              "<Figure size 640x480 with 1 Axes>"
            ]
          },
          "metadata": {},
          "output_type": "display_data"
        }
      ],
      "source": [
        "plot_rate_us = pd.DataFrame(df_usa.groupby(by='region').positive.sum())\n",
        "plot_rate_us = plot_rate_us.sort_values(\"positive\", ascending=False).head(10)\n",
        "\n",
        "plot_rate_us.plot(kind='barh')"
      ]
    },
    {
      "cell_type": "markdown",
      "metadata": {},
      "source": [
        "Estados que realizaron más pruebas por millon de habitantes"
      ]
    },
    {
      "cell_type": "code",
      "execution_count": 92,
      "metadata": {},
      "outputs": [
        {
          "data": {
            "text/plain": [
              "<AxesSubplot: ylabel='region'>"
            ]
          },
          "execution_count": 92,
          "metadata": {},
          "output_type": "execute_result"
        },
        {
          "data": {
            "image/png": "[encoded data removed]",
            "text/plain": [
              "<Figure size 640x480 with 1 Axes>"
            ]
          },
          "metadata": {},
          "output_type": "display_data"
        }
      ],
      "source": [
        "plot_rate_us = pd.DataFrame(df_usa.groupby(by='region').testper1m.sum())\n",
        "plot_rate_us = plot_rate_us.sort_values(\"testper1m\", ascending=False).head(10)\n",
        "\n",
        "plot_rate_us.plot(kind='barh')"
      ]
    },
    {
      "cell_type": "markdown",
      "metadata": {},
      "source": [
        "Los diez países que realizaron más pruebas"
      ]
    },
    {
      "cell_type": "code",
      "execution_count": 93,
      "metadata": {
        "colab": {
          "base_uri": "https://localhost:8080/",
          "height": 404
        },
        "id": "WtsptOuKOFwi",
        "outputId": "59ce8ff4-b4d9-4ba7-fb50-e75846ecb0da"
      },
      "outputs": [
        {
          "data": {
            "text/plain": [
              "<AxesSubplot: ylabel='country'>"
            ]
          },
          "execution_count": 93,
          "metadata": {},
          "output_type": "execute_result"
        },
        {
          "data": {
            "image/png": "[encoded data removed]",
            "text/plain": [
              "<Figure size 640x480 with 1 Axes>"
            ]
          },
          "metadata": {},
          "output_type": "display_data"
        }
      ],
      "source": [
        "plot_test = pd.DataFrame(df_c.groupby(by='country').tests.sum())\n",
        "plot_test = plot_test.sort_values(\"tests\", ascending=False).head(10)\n",
        "\n",
        "plot_test.plot(kind='barh')\n",
        "\n",
        "\n",
        "\n"
      ]
    },
    {
      "cell_type": "markdown",
      "metadata": {},
      "source": [
        "Los diez países que realizaron más pruebas por cada millon de habitantes"
      ]
    },
    {
      "cell_type": "code",
      "execution_count": 94,
      "metadata": {
        "colab": {
          "base_uri": "https://localhost:8080/",
          "height": 396
        },
        "id": "SsDfo8qoOFwj",
        "outputId": "bbab94dc-410e-4405-cf4a-59563a1c5413"
      },
      "outputs": [
        {
          "data": {
            "text/plain": [
              "<AxesSubplot: ylabel='country'>"
            ]
          },
          "execution_count": 94,
          "metadata": {},
          "output_type": "execute_result"
        },
        {
          "data": {
            "image/png": "[encoded data removed]",
            "text/plain": [
              "<Figure size 640x480 with 1 Axes>"
            ]
          },
          "metadata": {},
          "output_type": "display_data"
        }
      ],
      "source": [
        "plot_testpm = pd.DataFrame(df_c.groupby(by='country').testper1m.sum())\n",
        "plot_testpm = plot_testpm.sort_values(\"testper1m\", ascending=False).head(10)\n",
        "\n",
        "plot_testpm.plot(kind='barh')\n",
        "\n"
      ]
    },
    {
      "cell_type": "markdown",
      "metadata": {},
      "source": [
        "Países con tasas de pruebas positivas mas altas"
      ]
    },
    {
      "cell_type": "code",
      "execution_count": 95,
      "metadata": {},
      "outputs": [
        {
          "data": {
            "text/plain": [
              "<AxesSubplot: ylabel='country'>"
            ]
          },
          "execution_count": 95,
          "metadata": {},
          "output_type": "execute_result"
        },
        {
          "data": {
            "image/png": "[encoded data removed]",
            "text/plain": [
              "<Figure size 640x480 with 1 Axes>"
            ]
          },
          "metadata": {},
          "output_type": "display_data"
        }
      ],
      "source": [
        "plot_testpm = pd.DataFrame(df_c.groupby(by='country').ratepositive.sum())\n",
        "plot_testpm = plot_testpm.sort_values(\"ratepositive\", ascending=False).head(10)\n",
        "\n",
        "plot_testpm.plot(kind='barh')"
      ]
    }
  ],
  "metadata": {
    "colab": {
      "collapsed_sections": [],
      "provenance": []
    },
    "kernelspec": {
      "display_name": "Python 3.10.8 64-bit",
      "language": "python",
      "name": "python3"
    },
    "language_info": {
      "codemirror_mode": {
        "name": "ipython",
        "version": 3
      },
      "file_extension": ".py",
      "mimetype": "text/x-python",
      "name": "python",
      "nbconvert_exporter": "python",
      "pygments_lexer": "ipython3",
      "version": "3.10.8"
    },
    "vscode": {
      "interpreter": {
        "hash": "0d3a2212c6ea9909c99d276ccee16ce70ccbb8ee28c7688b0b9cee09dfbfc972"
      }
    }
  },
  "nbformat": 4,
  "nbformat_minor": 0
}
